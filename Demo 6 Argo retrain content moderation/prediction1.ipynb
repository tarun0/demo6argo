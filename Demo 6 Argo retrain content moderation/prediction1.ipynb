{
 "cells": [
  {
   "cell_type": "code",
   "execution_count": 40,
   "metadata": {
    "scrolled": true
   },
   "outputs": [
    {
     "name": "stdout",
     "output_type": "stream",
     "text": [
      "no file provided. trying with default... /home/tarun/Documents/Demo/Demo 6 Argo retrain content moderation/test/new00000013.jpg\n"
     ]
    }
   ],
   "source": [
    "from fastai.vision import *\n",
    "import os\n",
    "\n",
    "testfile = (os.listdir(os.curdir+'/test'))[0]\n",
    "testfilepath = os.path.join(os.path.abspath(os.curdir+'/test'),testfile)\n",
    "if sys.argv[-1].endswith('jpg'):\n",
    "    print('testfile provided: ', os.path.join(os.path.abspath(os.curdir+'/test'), sys.argv[-1]))\n",
    "else:\n",
    "    print('no file provided. trying with default...', os.path.join(os.path.abspath(os.curdir+'/test'),testfile))"
   ]
  },
  {
   "cell_type": "code",
   "execution_count": 35,
   "metadata": {},
   "outputs": [],
   "source": [
    "def start_prediction():\n",
    "    base_path = 'data'\n",
    "    path = Path(base_path+ '/items')\n",
    "    print(path.ls())\n",
    "\n",
    "    defaults.device = torch.device('cpu')\n",
    "\n",
    "    img = open_image(testfilepath)\n",
    "\n",
    "    learn = load_learner(path, 'final model.pkl')\n",
    "\n",
    "    pred_class,pred_idx,outputs = learn.predict(img)\n",
    "    print(\"Predicted class: \", pred_class)\n",
    "\n"
   ]
  },
  {
   "cell_type": "code",
   "execution_count": 36,
   "metadata": {},
   "outputs": [
    {
     "name": "stdout",
     "output_type": "stream",
     "text": [
      "00000013.jpg\n",
      "predict\n",
      "[PosixPath('data/items/final model'), PosixPath('data/items/teddys'), PosixPath('data/items/models'), PosixPath('data/items/guns'), PosixPath('data/items/final model.pkl')]\n",
      "Predicted class:  guns\n"
     ]
    }
   ],
   "source": [
    "#path = Path('/tmp/data/bears')\n",
    "#print(path.ls())\n",
    "print(testfile)\n",
    "result = ''\n",
    "if testfile.startswith('new') and testfile.endswith('jpg'):\n",
    "        #print('new image file: ' + f)\n",
    "    result = 'retrain'\n",
    "    print(result)\n",
    "elif testfile.startswith('new') and not testfile.endswith('jpg'):\n",
    "    result = 'new file: ' + f\n",
    "    print(result)\n",
    "elif testfile.endswith('jpg'):\n",
    "    result = 'predict'\n",
    "    print(result)\n",
    "    start_prediction()\n",
    "else:\n",
    "    result = ('some file')\n",
    "    print(result)"
   ]
  },
  {
   "cell_type": "code",
   "execution_count": null,
   "metadata": {},
   "outputs": [],
   "source": []
  }
 ],
 "metadata": {
  "kernelspec": {
   "display_name": "Python 3",
   "language": "python",
   "name": "python3"
  },
  "language_info": {
   "codemirror_mode": {
    "name": "ipython",
    "version": 3
   },
   "file_extension": ".py",
   "mimetype": "text/x-python",
   "name": "python",
   "nbconvert_exporter": "python",
   "pygments_lexer": "ipython3",
   "version": "3.7.4"
  }
 },
 "nbformat": 4,
 "nbformat_minor": 2
}
