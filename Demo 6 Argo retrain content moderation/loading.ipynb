{
 "cells": [
  {
   "cell_type": "code",
   "execution_count": 1,
   "metadata": {},
   "outputs": [
    {
     "name": "stdout",
     "output_type": "stream",
     "text": [
      "[PosixPath('data/items/teddys'), PosixPath('data/items/guns')]\n"
     ]
    },
    {
     "data": {
      "text/html": [],
      "text/plain": [
       "<IPython.core.display.HTML object>"
      ]
     },
     "metadata": {},
     "output_type": "display_data"
    },
    {
     "data": {
      "text/html": [],
      "text/plain": [
       "<IPython.core.display.HTML object>"
      ]
     },
     "metadata": {},
     "output_type": "display_data"
    },
    {
     "data": {
      "text/html": [],
      "text/plain": [
       "<IPython.core.display.HTML object>"
      ]
     },
     "metadata": {},
     "output_type": "display_data"
    },
    {
     "data": {
      "text/html": [],
      "text/plain": [
       "<IPython.core.display.HTML object>"
      ]
     },
     "metadata": {},
     "output_type": "display_data"
    }
   ],
   "source": [
    "#!/usr/bin/env python\n",
    "# coding: utf-8\n",
    "\n",
    "# In[2]:\n",
    "\n",
    "\n",
    "from fastai.vision import *\n",
    "\n",
    "folder1 = 'guns'\n",
    "file1 = 'guns.csv'\n",
    "\n",
    "folder2 = 'teddys'\n",
    "file2 = 'teddys.csv'\n",
    "\n",
    "base_path = 'data'\n",
    "path = Path(base_path+ '/items')\n",
    "print(path.ls())\n",
    "\n",
    "dest1 = path/folder1\n",
    "dest1.mkdir(parents=True, exist_ok=True)\n",
    "\n",
    "dest2 = path/folder2\n",
    "dest2.mkdir(parents=True, exist_ok=True)\n",
    "\n",
    "classes = ['guns','teddys']\n",
    "download_images(file1, dest1, max_pics=95)\n",
    "download_images(file2, dest2, max_pics=95)\n",
    "\n",
    "\n",
    "verify_images(path/classes[0], delete=True, max_size=95)\n",
    "\n",
    "verify_images(path/classes[1], delete=True, max_size=95)"
   ]
  }
 ],
 "metadata": {
  "kernelspec": {
   "display_name": "Python 3",
   "language": "python",
   "name": "python3"
  },
  "language_info": {
   "codemirror_mode": {
    "name": "ipython",
    "version": 3
   },
   "file_extension": ".py",
   "mimetype": "text/x-python",
   "name": "python",
   "nbconvert_exporter": "python",
   "pygments_lexer": "ipython3",
   "version": "3.7.4"
  }
 },
 "nbformat": 4,
 "nbformat_minor": 2
}
