{
 "cells": [
  {
   "cell_type": "code",
   "execution_count": 26,
   "metadata": {},
   "outputs": [
    {
     "name": "stdout",
     "output_type": "stream",
     "text": [
      "/home/tarun/.local/share/jupyter/runtime/kernel-509b56f1-459e-4de9-b741-d4cedcb2fab7.json\n",
      "Path not provided as argument. Defaulting to:  data\n"
     ]
    },
    {
     "data": {
      "text/html": [],
      "text/plain": [
       "<IPython.core.display.HTML object>"
      ]
     },
     "metadata": {},
     "output_type": "display_data"
    },
    {
     "data": {
      "text/html": [],
      "text/plain": [
       "<IPython.core.display.HTML object>"
      ]
     },
     "metadata": {},
     "output_type": "display_data"
    },
    {
     "data": {
      "text/html": [],
      "text/plain": [
       "<IPython.core.display.HTML object>"
      ]
     },
     "metadata": {},
     "output_type": "display_data"
    },
    {
     "data": {
      "text/html": [],
      "text/plain": [
       "<IPython.core.display.HTML object>"
      ]
     },
     "metadata": {},
     "output_type": "display_data"
    }
   ],
   "source": [
    "from fastai.vision import *\n",
    "import sys\n",
    "import pathlib\n",
    "\n",
    "folder1 = 'guns'\n",
    "file1 = 'guns.csv'\n",
    "\n",
    "folder2 = 'teddys'\n",
    "file2 = 'teddys.csv'\n",
    "\n",
    "path = pathlib.Path('data')\n",
    "print(sys.argv[-1])\n",
    "\n",
    "if not sys.argv[-1].endswith('json') and not sys.argv[-1].endswith('py') :\n",
    "    path = pathlib.Path(sys.argv[-1])\n",
    "    print('setting to' , path)\n",
    "else:\n",
    "    print('Path not provided as argument. Defaulting to: ', path)\n",
    "\n",
    "dest1 = path/folder1\n",
    "dest1.mkdir(parents=True, exist_ok=True)\n",
    "\n",
    "dest2 = path/folder2\n",
    "dest2.mkdir(parents=True, exist_ok=True)\n",
    "\n",
    "classes = ['guns','teddys']\n",
    "download_images(file1, dest1, max_pics=95)\n",
    "download_images(file2, dest2, max_pics=95)\n",
    "\n",
    "\n",
    "verify_images(path/classes[0], delete=True, max_size=95)\n",
    "\n",
    "verify_images(path/classes[1], delete=True, max_size=95)"
   ]
  },
  {
   "cell_type": "code",
   "execution_count": 7,
   "metadata": {},
   "outputs": [
    {
     "name": "stdout",
     "output_type": "stream",
     "text": [
      "[PosixPath('data/items')]\n"
     ]
    },
    {
     "ename": "TypeError",
     "evalue": "unsupported operand type(s) for /: 'str' and 'str'",
     "output_type": "error",
     "traceback": [
      "\u001b[0;31m---------------------------------------------------------------------------\u001b[0m",
      "\u001b[0;31mTypeError\u001b[0m                                 Traceback (most recent call last)",
      "\u001b[0;32m<ipython-input-7-fb1311efe959>\u001b[0m in \u001b[0;36m<module>\u001b[0;34m\u001b[0m\n\u001b[1;32m     16\u001b[0m     \u001b[0mprint\u001b[0m\u001b[0;34m(\u001b[0m\u001b[0;34m'Path not provided as argument. Defaulting to: '\u001b[0m\u001b[0;34m,\u001b[0m \u001b[0mpath\u001b[0m\u001b[0;34m)\u001b[0m\u001b[0;34m\u001b[0m\u001b[0;34m\u001b[0m\u001b[0m\n\u001b[1;32m     17\u001b[0m \u001b[0;34m\u001b[0m\u001b[0m\n\u001b[0;32m---> 18\u001b[0;31m \u001b[0mdest1\u001b[0m \u001b[0;34m=\u001b[0m \u001b[0mpath\u001b[0m\u001b[0;34m/\u001b[0m\u001b[0mfolder1\u001b[0m\u001b[0;34m\u001b[0m\u001b[0;34m\u001b[0m\u001b[0m\n\u001b[0m\u001b[1;32m     19\u001b[0m \u001b[0mdest1\u001b[0m\u001b[0;34m.\u001b[0m\u001b[0mmkdir\u001b[0m\u001b[0;34m(\u001b[0m\u001b[0mparents\u001b[0m\u001b[0;34m=\u001b[0m\u001b[0;32mTrue\u001b[0m\u001b[0;34m,\u001b[0m \u001b[0mexist_ok\u001b[0m\u001b[0;34m=\u001b[0m\u001b[0;32mTrue\u001b[0m\u001b[0;34m)\u001b[0m\u001b[0;34m\u001b[0m\u001b[0;34m\u001b[0m\u001b[0m\n\u001b[1;32m     20\u001b[0m \u001b[0;34m\u001b[0m\u001b[0m\n",
      "\u001b[0;31mTypeError\u001b[0m: unsupported operand type(s) for /: 'str' and 'str'"
     ]
    }
   ],
   "source": [
    "from fastai.imports import *\n",
    "\n",
    "folder1 = 'guns'\n",
    "file1 = 'guns.csv'\n",
    "\n",
    "folder2 = 'teddys'\n",
    "file2 = 'teddys.csv'\n",
    "\n",
    "\n",
    "path = Path('data')\n",
    "print(path.ls())\n",
    "\n",
    "try:\n",
    "    path = sys.argv[-1]\n",
    "except:\n",
    "    print('Path not provided as argument. Defaulting to: ', path)\n",
    "\n",
    "dest1 = path/folder1\n",
    "dest1.mkdir(parents=True, exist_ok=True)\n",
    "\n",
    "dest2 = path/folder2\n",
    "dest2.mkdir(parents=True, exist_ok=True)\n",
    "\n",
    "classes = ['guns','teddys']\n",
    "download_images(file1, dest1, max_pics=95)\n",
    "download_images(file2, dest2, max_pics=95)\n",
    "\n",
    "\n",
    "verify_images(path/classes[0], delete=True, max_size=95)\n",
    "\n",
    "verify_images(path/classes[1], delete=True, max_size=95)"
   ]
  },
  {
   "cell_type": "code",
   "execution_count": null,
   "metadata": {},
   "outputs": [],
   "source": [
    "flow.write('\\n Checking default file: '+ str(os.path.join(os.path.abspath(os.getcwd()),testfile)) + '\\n')"
   ]
  }
 ],
 "metadata": {
  "kernelspec": {
   "display_name": "Python 3",
   "language": "python",
   "name": "python3"
  },
  "language_info": {
   "codemirror_mode": {
    "name": "ipython",
    "version": 3
   },
   "file_extension": ".py",
   "mimetype": "text/x-python",
   "name": "python",
   "nbconvert_exporter": "python",
   "pygments_lexer": "ipython3",
   "version": "3.7.4"
  }
 },
 "nbformat": 4,
 "nbformat_minor": 2
}
