{
 "cells": [
  {
   "cell_type": "code",
   "execution_count": null,
   "metadata": {},
   "outputs": [],
   "source": [
    "#!/usr/bin/env python\n",
    "# coding: utf-8\n",
    "\n",
    "# In[2]:\n",
    "\n",
    "\n",
    "from fastai.vision import *\n",
    "\n",
    "folder1 = 'guns'\n",
    "file1 = 'guns.csv'\n",
    "\n",
    "folder2 = 'teddys'\n",
    "file2 = 'teddys.csv'\n",
    "\n",
    "base_path = 'data'\n",
    "path = Path(base_path+ '/items')\n",
    "print(path.ls())\n",
    "\n",
    "dest1 = path/folder1\n",
    "dest1.mkdir(parents=True, exist_ok=True)\n",
    "\n",
    "dest2 = path/folder2\n",
    "dest2.mkdir(parents=True, exist_ok=True)\n",
    "\n",
    "classes = ['guns','teddys']\n",
    "download_images(file1, dest1, max_pics=95)\n",
    "download_images(file2, dest2, max_pics=95)\n",
    "\n",
    "\n",
    "verify_images(path/classes[0], delete=True, max_size=95)\n",
    "\n",
    "verify_images(path/classes[1], delete=True, max_size=95)"
   ]
  },
  {
   "cell_type": "code",
   "execution_count": 35,
   "metadata": {},
   "outputs": [
    {
     "name": "stdout",
     "output_type": "stream",
     "text": [
      "['guns', 'teddys']\n"
     ]
    }
   ],
   "source": [
    "np.random.seed(42)\n",
    "data = ImageDataBunch.from_folder(path, train=\".\", valid_pct=0.2,\n",
    "        ds_tfms=get_transforms(), size=224, num_workers=4).normalize(imagenet_stats)\n",
    "\n",
    "print(data.classes)\n",
    "\n",
    "\n",
    "# In[ ]:"
   ]
  },
  {
   "cell_type": "code",
   "execution_count": 8,
   "metadata": {},
   "outputs": [
    {
     "name": "stdout",
     "output_type": "stream",
     "text": [
      "['abc.jpg']\n"
     ]
    }
   ],
   "source": [
    "import os\n",
    "files = os.listdir(os.curdir+'/test')\n",
    "print(files)"
   ]
  },
  {
   "cell_type": "code",
   "execution_count": 9,
   "metadata": {},
   "outputs": [
    {
     "name": "stdout",
     "output_type": "stream",
     "text": [
      "[PosixPath('data/bears/teddys'), PosixPath('data/bears/guns')]\n"
     ]
    }
   ],
   "source": [
    "base_path = 'data'\n",
    "p = Path(base_path+ '/bears')\n",
    "print(p.ls())"
   ]
  },
  {
   "cell_type": "code",
   "execution_count": 13,
   "metadata": {},
   "outputs": [
    {
     "name": "stdout",
     "output_type": "stream",
     "text": [
      "image file: abc.jpg\n",
      "some file\n",
      "new file: newsome.ap\n",
      "image file: some.jpg\n",
      "new image file: newimage.jpg\n"
     ]
    }
   ],
   "source": [
    "lists = os.listdir(os.curdir+'/test')\n",
    "#print(files)\n",
    "for f in lists:\n",
    "    if f.startswith('new') and f.endswith('jpg'):\n",
    "        print('new image file: ' + f)\n",
    "    elif f.startswith('new') and not f.endswith('jpg'):\n",
    "        print('new file: ' + f)\n",
    "    elif f.endswith('jpg'):\n",
    "        print('image file: ' + f)\n",
    "    else:\n",
    "        print('some file')"
   ]
  },
  {
   "cell_type": "code",
   "execution_count": 25,
   "metadata": {},
   "outputs": [
    {
     "name": "stdout",
     "output_type": "stream",
     "text": [
      "abc.jpg\n"
     ]
    }
   ],
   "source": [
    "f=lists[0]\n",
    "print(f)"
   ]
  },
  {
   "cell_type": "code",
   "execution_count": 32,
   "metadata": {},
   "outputs": [
    {
     "name": "stdout",
     "output_type": "stream",
     "text": [
      "file abc.jpg\n",
      "/home/tarun/Documents/Demo/Demo 6 Argo retrain content moderation/abc.jpg\n"
     ]
    }
   ],
   "source": [
    "testpath =os.curdir+'/test' \n",
    "f1 = (os.listdir(testpath))[0]\n",
    "print('file', f1)\n",
    "print(os.path.abspath(f1))\n",
    "s = os.path.abspath(f1)\n",
    "print('source', s)\n",
    "d = os.getcwd()+'/data/items/guns/'+f1\n",
    "print('dest', d)\n",
    "#os.rename(os.path.abspath(f), os.getcwd()+'/data/items/guns/'+f)\n",
    "#testSource = os.curdir+'/test/'\n",
    "#os.rename(testSource + f, os.curdir + '/' + base_path+ '/bears/data/'+f)\n",
    "#print(os.listdir(testSource))\n",
    "#Path(\"path/to/current/file.foo\").rename(\"path/to/new/destination/for/file.foo\")"
   ]
  },
  {
   "cell_type": "code",
   "execution_count": null,
   "metadata": {},
   "outputs": [],
   "source": []
  }
 ],
 "metadata": {
  "kernelspec": {
   "display_name": "Python 3",
   "language": "python",
   "name": "python3"
  },
  "language_info": {
   "codemirror_mode": {
    "name": "ipython",
    "version": 3
   },
   "file_extension": ".py",
   "mimetype": "text/x-python",
   "name": "python",
   "nbconvert_exporter": "python",
   "pygments_lexer": "ipython3",
   "version": "3.7.4"
  }
 },
 "nbformat": 4,
 "nbformat_minor": 2
}
