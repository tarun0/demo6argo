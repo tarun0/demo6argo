{
 "cells": [
  {
   "cell_type": "code",
   "execution_count": null,
   "metadata": {},
   "outputs": [],
   "source": [
    "import os    \n",
    "import shutil\n",
    "import sys\n",
    "\n",
    "testfile = (os.listdir(os.curdir+'/test'))[0]\n",
    "sourcefilepath = os.path.join(os.path.abspath(os.curdir+'/test'),testfile)\n",
    "if sys.argv[-1].endswith('jpg'):\n",
    "    testfile = sys.argv[-1]\n",
    "    sourcefilepath = os.path.join(os.path.abspath(os.curdir+'/test'),sys.argv[-1])\n",
    "    print('testfile provided in arguments: ', sourcefilepath)\n",
    "else:\n",
    "    print('no file provided. trying with default...', os.path.join(os.path.abspath(os.curdir+'/test'),testfile))\n",
    "\n",
    "sourcePathTeddy = os.path.join(os.path.abspath(os.curdir+'/data/items/teddys'),testfile)\n",
    "sourcePathGuns = os.path.join(os.path.abspath(os.curdir+'/data/items/guns'),testfile)\n",
    "\n",
    "if testfile.startswith('newt') and testfile.endswith('jpg'):\n",
    "        #print('new image file: ' + f)\n",
    "    print( 'Copied to teddy: ', shutil.copyfile(sourcefilepath, sourcePathTeddy))\n",
    "elif testfile.startswith('newg') and testfile.endswith('jpg'):\n",
    "    print('Copied to Guns', shutil.copyfile(sourcefilepath, sourcePathGuns))"
   ]
  }
 ],
 "metadata": {
  "kernelspec": {
   "display_name": "Python 3",
   "language": "python",
   "name": "python3"
  },
  "language_info": {
   "codemirror_mode": {
    "name": "ipython",
    "version": 3
   },
   "file_extension": ".py",
   "mimetype": "text/x-python",
   "name": "python",
   "nbconvert_exporter": "python",
   "pygments_lexer": "ipython3",
   "version": "3.7.4"
  }
 },
 "nbformat": 4,
 "nbformat_minor": 2
}
