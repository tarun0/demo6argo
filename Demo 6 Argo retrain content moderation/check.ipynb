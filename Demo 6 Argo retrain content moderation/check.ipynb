{
 "cells": [
  {
   "cell_type": "code",
   "execution_count": 11,
   "metadata": {},
   "outputs": [
    {
     "name": "stdout",
     "output_type": "stream",
     "text": [
      "no file provided. trying with default... /home/tarun/Documents/Demo/Demo 6 Argo retrain content moderation/newimage.jpg\n"
     ]
    }
   ],
   "source": [
    "from fastai.vision import *\n",
    "import os\n",
    "\n",
    "testfile = (os.listdir(os.curdir+'/test'))[0]\n",
    "if sys.argv[-1].endswith('jpg'):\n",
    "    print('testfile provided: ', sys.argv[-1])\n",
    "else:\n",
    "    print('no file provided. trying with default...', os.path.join(os.path.abspath(os.curdir),testfile))"
   ]
  },
  {
   "cell_type": "code",
   "execution_count": 13,
   "metadata": {},
   "outputs": [
    {
     "name": "stdout",
     "output_type": "stream",
     "text": [
      "retrain\n"
     ]
    }
   ],
   "source": [
    "#path = Path('/tmp/data/bears')\n",
    "#print(path.ls())\n",
    "result = 'dummy'\n",
    "if testfile.startswith('new') and testfile.endswith('jpg'):\n",
    "        #print('new image file: ' + f)\n",
    "    result = 'retrain'\n",
    "    print(result)\n",
    "elif testfile.startswith('new') and not testfile.endswith('jpg'):\n",
    "    result = 'new file: ' + f\n",
    "    print(result)\n",
    "elif testfile.endswith('jpg'):\n",
    "    result = 'predict'\n",
    "    print(result)\n",
    "else:\n",
    "    result = ('some file')\n",
    "    print(result)"
   ]
  },
  {
   "cell_type": "code",
   "execution_count": null,
   "metadata": {},
   "outputs": [],
   "source": []
  }
 ],
 "metadata": {
  "kernelspec": {
   "display_name": "Python 3",
   "language": "python",
   "name": "python3"
  },
  "language_info": {
   "codemirror_mode": {
    "name": "ipython",
    "version": 3
   },
   "file_extension": ".py",
   "mimetype": "text/x-python",
   "name": "python",
   "nbconvert_exporter": "python",
   "pygments_lexer": "ipython3",
   "version": "3.7.4"
  }
 },
 "nbformat": 4,
 "nbformat_minor": 2
}
